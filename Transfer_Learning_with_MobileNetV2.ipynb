{
  "nbformat": 4,
  "nbformat_minor": 0,
  "metadata": {
    "colab": {
      "provenance": [],
      "gpuType": "T4",
      "authorship_tag": "ABX9TyOfOas+0uBOny8UyRQpUmQy",
      "include_colab_link": true
    },
    "kernelspec": {
      "name": "python3",
      "display_name": "Python 3"
    },
    "language_info": {
      "name": "python"
    },
    "accelerator": "GPU"
  },
  "cells": [
    {
      "cell_type": "markdown",
      "metadata": {
        "id": "view-in-github",
        "colab_type": "text"
      },
      "source": [
        "<a href=\"https://colab.research.google.com/github/dp-93/Transfer-Learning-with-MobileNetV2/blob/main/Transfer_Learning_with_MobileNetV2.ipynb\" target=\"_parent\"><img src=\"https://colab.research.google.com/assets/colab-badge.svg\" alt=\"Open In Colab\"/></a>"
      ]
    },
    {
      "cell_type": "code",
      "execution_count": 4,
      "metadata": {
        "colab": {
          "base_uri": "https://localhost:8080/"
        },
        "id": "PPTnWOOsFUdS",
        "outputId": "ff46eda3-5b09-4df3-f4af-952f1e2b9170"
      },
      "outputs": [
        {
          "output_type": "stream",
          "name": "stdout",
          "text": [
            "\n",
            "--- Training the FINAL Clean Model ---\n",
            "Epoch 1/10\n",
            "\u001b[1m1563/1563\u001b[0m \u001b[32m━━━━━━━━━━━━━━━━━━━━\u001b[0m\u001b[37m\u001b[0m \u001b[1m37s\u001b[0m 19ms/step - accuracy: 0.6431 - loss: 1.0562 - val_accuracy: 0.7890 - val_loss: 0.6153\n",
            "Epoch 2/10\n",
            "\u001b[1m1563/1563\u001b[0m \u001b[32m━━━━━━━━━━━━━━━━━━━━\u001b[0m\u001b[37m\u001b[0m \u001b[1m17s\u001b[0m 11ms/step - accuracy: 0.7708 - loss: 0.6646 - val_accuracy: 0.7893 - val_loss: 0.6199\n",
            "Epoch 3/10\n",
            "\u001b[1m1563/1563\u001b[0m \u001b[32m━━━━━━━━━━━━━━━━━━━━\u001b[0m\u001b[37m\u001b[0m \u001b[1m18s\u001b[0m 11ms/step - accuracy: 0.7813 - loss: 0.6369 - val_accuracy: 0.7886 - val_loss: 0.6105\n",
            "Epoch 4/10\n",
            "\u001b[1m1563/1563\u001b[0m \u001b[32m━━━━━━━━━━━━━━━━━━━━\u001b[0m\u001b[37m\u001b[0m \u001b[1m17s\u001b[0m 11ms/step - accuracy: 0.7832 - loss: 0.6201 - val_accuracy: 0.7975 - val_loss: 0.5933\n",
            "Epoch 5/10\n",
            "\u001b[1m1563/1563\u001b[0m \u001b[32m━━━━━━━━━━━━━━━━━━━━\u001b[0m\u001b[37m\u001b[0m \u001b[1m17s\u001b[0m 11ms/step - accuracy: 0.7918 - loss: 0.6026 - val_accuracy: 0.8030 - val_loss: 0.5808\n",
            "Epoch 6/10\n",
            "\u001b[1m1563/1563\u001b[0m \u001b[32m━━━━━━━━━━━━━━━━━━━━\u001b[0m\u001b[37m\u001b[0m \u001b[1m17s\u001b[0m 11ms/step - accuracy: 0.7847 - loss: 0.6192 - val_accuracy: 0.7779 - val_loss: 0.6499\n",
            "Epoch 7/10\n",
            "\u001b[1m1563/1563\u001b[0m \u001b[32m━━━━━━━━━━━━━━━━━━━━\u001b[0m\u001b[37m\u001b[0m \u001b[1m20s\u001b[0m 11ms/step - accuracy: 0.7883 - loss: 0.6116 - val_accuracy: 0.7967 - val_loss: 0.5874\n",
            "Epoch 8/10\n",
            "\u001b[1m1563/1563\u001b[0m \u001b[32m━━━━━━━━━━━━━━━━━━━━\u001b[0m\u001b[37m\u001b[0m \u001b[1m17s\u001b[0m 11ms/step - accuracy: 0.7914 - loss: 0.5997 - val_accuracy: 0.7966 - val_loss: 0.5994\n",
            "Epoch 9/10\n",
            "\u001b[1m1563/1563\u001b[0m \u001b[32m━━━━━━━━━━━━━━━━━━━━\u001b[0m\u001b[37m\u001b[0m \u001b[1m23s\u001b[0m 12ms/step - accuracy: 0.7918 - loss: 0.6037 - val_accuracy: 0.7942 - val_loss: 0.6037\n",
            "Epoch 10/10\n",
            "\u001b[1m1563/1563\u001b[0m \u001b[32m━━━━━━━━━━━━━━━━━━━━\u001b[0m\u001b[37m\u001b[0m \u001b[1m18s\u001b[0m 11ms/step - accuracy: 0.7898 - loss: 0.6035 - val_accuracy: 0.7971 - val_loss: 0.5955\n",
            "\n",
            "--- Clean model saved successfully! ---\n"
          ]
        }
      ],
      "source": [
        "# --- The FINAL Training and Saving Script ---\n",
        "\n",
        "import tensorflow as tf\n",
        "from tensorflow import keras\n",
        "from tensorflow.keras import layers, models\n",
        "\n",
        "# --- 1. Load the CIFAR-10 Dataset ---\n",
        "(X_train, y_train), (X_test, y_test) = keras.datasets.cifar10.load_data()\n",
        "\n",
        "# Normalize pixel values\n",
        "X_train = X_train / 255.0\n",
        "X_test = X_test / 255.0\n",
        "\n",
        "# --- 2. Resize the Images BEFORE Training ---\n",
        "IMG_SIZE = 96\n",
        "X_train_resized = tf.image.resize(X_train, (IMG_SIZE, IMG_SIZE))\n",
        "X_test_resized = tf.image.resize(X_test, (IMG_SIZE, IMG_SIZE))\n",
        "\n",
        "# --- 3. Load the Pre-trained MobileNetV2 Model ---\n",
        "base_model = tf.keras.applications.MobileNetV2(\n",
        "    input_shape=(IMG_SIZE, IMG_SIZE, 3),\n",
        "    include_top=False,\n",
        "    weights='imagenet'\n",
        ")\n",
        "base_model.trainable = False\n",
        "\n",
        "# --- 4. Build a Clean Model (No Lambda Layer) ---\n",
        "# The model now directly expects the larger 96x96 images\n",
        "model = models.Sequential([\n",
        "    base_model,\n",
        "    layers.GlobalAveragePooling2D(),\n",
        "    layers.Dropout(0.2),\n",
        "    layers.Dense(10)\n",
        "])\n",
        "\n",
        "# --- 5. Compile and Train the Model ---\n",
        "model.compile(optimizer='adam',\n",
        "              loss=tf.keras.losses.SparseCategoricalCrossentropy(from_logits=True),\n",
        "              metrics=['accuracy'])\n",
        "\n",
        "print(\"\\n--- Training the FINAL Clean Model ---\")\n",
        "model.fit(X_train_resized, y_train, epochs=10,\n",
        "          validation_data=(X_test_resized, y_test))\n",
        "\n",
        "# --- 6. Save the Clean Model ---\n",
        "model.save('cifar10_transfer_learning_model_clean.keras')\n",
        "print(\"\\n--- Clean model saved successfully! ---\")"
      ]
    },
    {
      "cell_type": "code",
      "source": [
        "# --- The FINAL Deployment Script ---\n",
        "\n",
        "import tensorflow as tf\n",
        "from tensorflow import keras\n",
        "import gradio as gr\n",
        "import numpy as np\n",
        "from PIL import Image\n",
        "\n",
        "# --- 1. Load Your CLEAN Saved Model ---\n",
        "print(\"Loading pre-trained model...\")\n",
        "loaded_model = keras.models.load_model('cifar10_transfer_learning_model_clean.keras')\n",
        "print(\"Model loaded successfully!\")\n",
        "\n",
        "\n",
        "# --- 2. Define the Prediction Function (no changes needed here) ---\n",
        "class_names = ['airplane', 'automobile', 'bird', 'cat', 'deer', 'dog', 'frog', 'horse', 'ship', 'truck']\n",
        "IMG_SIZE = 96\n",
        "\n",
        "def predict_image(input_image):\n",
        "    img_array = np.array(input_image)\n",
        "    pil_image = Image.fromarray(img_array).resize((IMG_SIZE, IMG_SIZE))\n",
        "    img_array = np.array(pil_image)\n",
        "    img_array = img_array / 255.0\n",
        "    img_array = np.expand_dims(img_array, axis=0)\n",
        "    predictions = loaded_model.predict(img_array)\n",
        "    scores = tf.nn.softmax(predictions[0])\n",
        "    confidence_scores = {class_names[i]: float(scores[i]) for i in range(10)}\n",
        "    return confidence_scores\n",
        "\n",
        "\n",
        "# --- 3. Install Gradio and Launch the App ---\n",
        "!pip install -q gradio\n",
        "\n",
        "interface = gr.Interface(fn=predict_image,\n",
        "                         inputs=gr.Image(type=\"pil\", label=\"Upload your image\"),\n",
        "                         outputs=gr.Label(num_top_classes=3, label=\"Top Predictions\"),\n",
        "                         title=\"CIFAR-10 Image Classifier (Transfer Learning)\",\n",
        "                         description=\"Upload an image to see the model's prediction.\")\n",
        "\n",
        "interface.launch()"
      ],
      "metadata": {
        "colab": {
          "base_uri": "https://localhost:8080/",
          "height": 680
        },
        "id": "QNjzo3OwUKE0",
        "outputId": "a0538441-164d-4ea2-b907-0de51289b06d"
      },
      "execution_count": 5,
      "outputs": [
        {
          "output_type": "stream",
          "name": "stdout",
          "text": [
            "Loading pre-trained model...\n",
            "Model loaded successfully!\n",
            "It looks like you are running Gradio on a hosted Jupyter notebook, which requires `share=True`. Automatically setting `share=True` (you can turn this off by setting `share=False` in `launch()` explicitly).\n",
            "\n",
            "Colab notebook detected. To show errors in colab notebook, set debug=True in launch()\n",
            "* Running on public URL: https://ff28b58962d6850cce.gradio.live\n",
            "\n",
            "This share link expires in 1 week. For free permanent hosting and GPU upgrades, run `gradio deploy` from the terminal in the working directory to deploy to Hugging Face Spaces (https://huggingface.co/spaces)\n"
          ]
        },
        {
          "output_type": "display_data",
          "data": {
            "text/plain": [
              "<IPython.core.display.HTML object>"
            ],
            "text/html": [
              "<div><iframe src=\"https://ff28b58962d6850cce.gradio.live\" width=\"100%\" height=\"500\" allow=\"autoplay; camera; microphone; clipboard-read; clipboard-write;\" frameborder=\"0\" allowfullscreen></iframe></div>"
            ]
          },
          "metadata": {}
        },
        {
          "output_type": "execute_result",
          "data": {
            "text/plain": []
          },
          "metadata": {},
          "execution_count": 5
        }
      ]
    }
  ]
}